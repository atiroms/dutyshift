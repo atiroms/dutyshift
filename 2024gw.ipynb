{
 "cells": [
  {
   "cell_type": "code",
   "execution_count": 25,
   "metadata": {},
   "outputs": [],
   "source": [
    "import pandas as pd, numpy as np\n",
    "import random"
   ]
  },
  {
   "cell_type": "code",
   "execution_count": 26,
   "metadata": {},
   "outputs": [],
   "source": [
    "# Test with dummy preference data\n",
    "\n",
    "seed_rand = 0\n",
    "random.seed(seed_rand)\n",
    "n_member = 9\n",
    "\n",
    "# col: member, index: rank of preference\n",
    "d_preference = pd.DataFrame(columns = [i for i in range(n_member)], index = [i for i in range(n_member)])\n",
    "\n",
    "for i in range(n_member):\n",
    "    l_shift = [i for i in range(n_member)]\n",
    "    random.shuffle(l_shift)\n",
    "    d_preference.loc[:, i] = l_shift"
   ]
  },
  {
   "cell_type": "code",
   "execution_count": 49,
   "metadata": {},
   "outputs": [],
   "source": [
    "seed_rand = 0\n",
    "random.seed(seed_rand)\n",
    "\n",
    "d_match = pd.DataFrame(index = [i for i in range(n_member)], columns = ['member', 'rank']) # index: shift\n",
    "\n",
    "for round in range(n_member):\n",
    "    l_member_free = [i for i in range(n_member) if i not in d_match['member'].tolist()]\n",
    "    s_round = d_preference.loc[round, :].copy()\n",
    "    for shift in range(n_member):\n",
    "        if np.isnan(d_match.loc[shift, 'member']):\n",
    "            l_applicant = s_round.loc[s_round == shift].index.tolist() # list of member who applied to the shift in the round(rank)\n",
    "            l_applicant = [i for i in l_applicant if i in l_member_free]\n",
    "            if len(l_applicant) > 0:\n",
    "                d_match.loc[shift, 'member'] = random.sample(l_applicant, 1)[0]\n",
    "                d_match.loc[shift, 'rank'] = round"
   ]
  }
 ],
 "metadata": {
  "kernelspec": {
   "display_name": "ds1",
   "language": "python",
   "name": "python3"
  },
  "language_info": {
   "codemirror_mode": {
    "name": "ipython",
    "version": 3
   },
   "file_extension": ".py",
   "mimetype": "text/x-python",
   "name": "python",
   "nbconvert_exporter": "python",
   "pygments_lexer": "ipython3",
   "version": "3.8.13"
  }
 },
 "nbformat": 4,
 "nbformat_minor": 2
}
