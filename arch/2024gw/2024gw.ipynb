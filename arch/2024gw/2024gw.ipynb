{
 "cells": [
  {
   "cell_type": "code",
   "execution_count": 74,
   "metadata": {},
   "outputs": [],
   "source": [
    "import pandas as pd, numpy as np\n",
    "import random"
   ]
  },
  {
   "cell_type": "code",
   "execution_count": 75,
   "metadata": {},
   "outputs": [],
   "source": [
    "# Collect response\n",
    "# Parameters\n",
    "address_response = \"https://docs.google.com/spreadsheets/d/1UD-iAwpCvhKwEtQYc0arrel_DQbyOt5Qfcz9GDELHZM/edit?resourcekey#gid=1397895293\"\n",
    "name_sheet = \"FormResponses1\"\n",
    "l_member = ['藤川 慎也', '池亀 天平', '越山 太輔', '熊倉 陽介', '星野 瑞生', '水谷 真志', '清田 正紘', '市川 貴一', '鈴木 魁士']\n",
    "l_duty = ['5/2(木)当直', '5/3(金)日直', '5/3(金)当直', '5/4(土)日直', '5/4(土)当直', '5/5(日)日直', '5/5(日)当直', '5/6(月)日直', '5/6(月)当直']\n",
    "l_rank = ['第1希望', '第2希望', '第3希望', '第4希望', '第5希望', '第6希望', '第7希望', '第8希望', '第9希望']\n",
    "\n",
    "# Read G sheet\n",
    "sheet_id = address_response.split('/')[5]\n",
    "d_preference_src = pd.read_csv(f\"https://docs.google.com/spreadsheets/d/{sheet_id}/gviz/tq?tqx=out:csv&sheet={name_sheet}\")\n",
    "\n",
    "# Convert\n",
    "# col: member, index: rank of preference, value: index of duty\n",
    "d_preference = pd.DataFrame(columns = [i for i in range(len(l_member))], index = [i for i in range(len(l_duty))])\n",
    "for i_member, name_member in enumerate(l_member):\n",
    "    if name_member in d_preference_src['お名前（敬称略）'].tolist():\n",
    "        s_preference_member = d_preference_src.loc[d_preference_src['お名前（敬称略）'] == name_member, [col.startswith('日当直希望') for col in d_preference_src.columns]]\n",
    "        for i_duty, name_duty in enumerate(l_duty):\n",
    "            rank_src = s_preference_member.loc[:, [name_duty in i_pref for i_pref in s_preference_member.columns.tolist()]].values.tolist()[0][0]\n",
    "            for i_rank, name_rank in enumerate(l_rank):\n",
    "                if rank_src == name_rank:\n",
    "                    d_preference.loc[i_rank, i_member] = i_duty"
   ]
  },
  {
   "cell_type": "code",
   "execution_count": 26,
   "metadata": {},
   "outputs": [],
   "source": [
    "# Test with dummy preference data\n",
    "\n",
    "seed_rand = 0\n",
    "random.seed(seed_rand)\n",
    "n_member = 9\n",
    "\n",
    "# col: member, index: rank of preference, value: index of duty\n",
    "d_preference = pd.DataFrame(columns = [i for i in range(n_member)], index = [i for i in range(n_member)])\n",
    "\n",
    "for i in range(n_member):\n",
    "    l_shift = [i for i in range(n_member)]\n",
    "    random.shuffle(l_shift)\n",
    "    d_preference.loc[:, i] = l_shift"
   ]
  },
  {
   "cell_type": "code",
   "execution_count": 76,
   "metadata": {},
   "outputs": [],
   "source": [
    "# Apply algorithm\n",
    "seed_rand = 0\n",
    "random.seed(seed_rand)\n",
    "\n",
    "d_match = pd.DataFrame(index = [i for i in range(len(l_duty))], columns = ['member', 'rank']) # index: shift\n",
    "\n",
    "for round in range(len(l_rank)):\n",
    "    l_member_free = [i for i in range(len(l_member)) if i not in d_match['member'].tolist()]\n",
    "    s_round = d_preference.loc[round, :].copy()\n",
    "    for shift in range(len(l_duty)):\n",
    "        if np.isnan(d_match.loc[shift, 'member']):\n",
    "            l_applicant = s_round.loc[s_round == shift].index.tolist() # list of member who applied to the shift in the round(rank)\n",
    "            l_applicant = [i for i in l_applicant if i in l_member_free]\n",
    "            if len(l_applicant) > 0:\n",
    "                d_match.loc[shift, 'member'] = random.sample(l_applicant, 1)[0]\n",
    "                d_match.loc[shift, 'rank'] = round"
   ]
  },
  {
   "cell_type": "code",
   "execution_count": 78,
   "metadata": {},
   "outputs": [],
   "source": [
    "# Convert result\n",
    "d_match['duty'] = l_duty\n",
    "for i_member, name_member in enumerate(l_member):\n",
    "    d_match.loc[d_match['member'] == i_member, 'member'] = name_member\n",
    "\n",
    "d_match = d_match[['duty', 'member', 'rank']]"
   ]
  },
  {
   "cell_type": "code",
   "execution_count": 79,
   "metadata": {},
   "outputs": [
    {
     "data": {
      "text/html": [
       "<div>\n",
       "<style scoped>\n",
       "    .dataframe tbody tr th:only-of-type {\n",
       "        vertical-align: middle;\n",
       "    }\n",
       "\n",
       "    .dataframe tbody tr th {\n",
       "        vertical-align: top;\n",
       "    }\n",
       "\n",
       "    .dataframe thead th {\n",
       "        text-align: right;\n",
       "    }\n",
       "</style>\n",
       "<table border=\"1\" class=\"dataframe\">\n",
       "  <thead>\n",
       "    <tr style=\"text-align: right;\">\n",
       "      <th></th>\n",
       "      <th>duty</th>\n",
       "      <th>member</th>\n",
       "      <th>rank</th>\n",
       "    </tr>\n",
       "  </thead>\n",
       "  <tbody>\n",
       "    <tr>\n",
       "      <th>0</th>\n",
       "      <td>5/2(木)当直</td>\n",
       "      <td>鈴木 魁士</td>\n",
       "      <td>0</td>\n",
       "    </tr>\n",
       "    <tr>\n",
       "      <th>1</th>\n",
       "      <td>5/3(金)日直</td>\n",
       "      <td>星野 瑞生</td>\n",
       "      <td>0</td>\n",
       "    </tr>\n",
       "    <tr>\n",
       "      <th>2</th>\n",
       "      <td>5/3(金)当直</td>\n",
       "      <td>藤川 慎也</td>\n",
       "      <td>0</td>\n",
       "    </tr>\n",
       "    <tr>\n",
       "      <th>3</th>\n",
       "      <td>5/4(土)日直</td>\n",
       "      <td>池亀 天平</td>\n",
       "      <td>1</td>\n",
       "    </tr>\n",
       "    <tr>\n",
       "      <th>4</th>\n",
       "      <td>5/4(土)当直</td>\n",
       "      <td>越山 太輔</td>\n",
       "      <td>3</td>\n",
       "    </tr>\n",
       "    <tr>\n",
       "      <th>5</th>\n",
       "      <td>5/5(日)日直</td>\n",
       "      <td>熊倉 陽介</td>\n",
       "      <td>6</td>\n",
       "    </tr>\n",
       "    <tr>\n",
       "      <th>6</th>\n",
       "      <td>5/5(日)当直</td>\n",
       "      <td>清田 正紘</td>\n",
       "      <td>1</td>\n",
       "    </tr>\n",
       "    <tr>\n",
       "      <th>7</th>\n",
       "      <td>5/6(月)日直</td>\n",
       "      <td>市川 貴一</td>\n",
       "      <td>0</td>\n",
       "    </tr>\n",
       "    <tr>\n",
       "      <th>8</th>\n",
       "      <td>5/6(月)当直</td>\n",
       "      <td>水谷 真志</td>\n",
       "      <td>0</td>\n",
       "    </tr>\n",
       "  </tbody>\n",
       "</table>\n",
       "</div>"
      ],
      "text/plain": [
       "       duty member rank\n",
       "0  5/2(木)当直  鈴木 魁士    0\n",
       "1  5/3(金)日直  星野 瑞生    0\n",
       "2  5/3(金)当直  藤川 慎也    0\n",
       "3  5/4(土)日直  池亀 天平    1\n",
       "4  5/4(土)当直  越山 太輔    3\n",
       "5  5/5(日)日直  熊倉 陽介    6\n",
       "6  5/5(日)当直  清田 正紘    1\n",
       "7  5/6(月)日直  市川 貴一    0\n",
       "8  5/6(月)当直  水谷 真志    0"
      ]
     },
     "execution_count": 79,
     "metadata": {},
     "output_type": "execute_result"
    }
   ],
   "source": [
    "d_match"
   ]
  },
  {
   "cell_type": "code",
   "execution_count": null,
   "metadata": {},
   "outputs": [],
   "source": []
  }
 ],
 "metadata": {
  "kernelspec": {
   "display_name": "ds1",
   "language": "python",
   "name": "python3"
  },
  "language_info": {
   "codemirror_mode": {
    "name": "ipython",
    "version": 3
   },
   "file_extension": ".py",
   "mimetype": "text/x-python",
   "name": "python",
   "nbconvert_exporter": "python",
   "pygments_lexer": "ipython3",
   "version": "3.8.13"
  }
 },
 "nbformat": 4,
 "nbformat_minor": 2
}
