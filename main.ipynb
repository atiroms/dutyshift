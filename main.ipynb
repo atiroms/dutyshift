{
 "cells": [
  {
   "cell_type": "code",
   "execution_count": 1,
   "metadata": {},
   "outputs": [],
   "source": [
    "###############################################################################\n",
    "# Common parameters\n",
    "###############################################################################\n",
    "year_plan, month_plan  = 2024, 6\n",
    "l_holiday = []\n",
    "l_date_ect_cancel = [6]\n",
    "\n",
    "from script.parameter import *"
   ]
  },
  {
   "cell_type": "code",
   "execution_count": null,
   "metadata": {},
   "outputs": [],
   "source": [
    "###############################################################################\n",
    "# Create Google form\n",
    "###############################################################################\n",
    "from script.form import *\n",
    "d_cal, d_date_duty, s_cnt_duty, s_cnt_class_duty, d_cal_duty, d_form =\\\n",
    "    prepare_form(lp_root, year_plan, month_plan, l_holiday, l_date_ect_cancel, l_day_ect, day_em, l_week_em, l_class_duty, dict_duty, dict_score_duty, dict_duty_jpn, dict_title_duty, dict_class_duty)"
   ]
  },
  {
   "cell_type": "code",
   "execution_count": null,
   "metadata": {},
   "outputs": [],
   "source": [
    "###############################################################################\n",
    "# Collect google form response\n",
    "###############################################################################\n",
    "from script.collect import *\n",
    "str_member_missing, str_mail_missing, d_availability, d_info, d_member =\\\n",
    "    collect_availability(lp_root, year_plan, month_plan, id_sheet_response, dict_jpnday, dict_duty_jpn)"
   ]
  },
  {
   "cell_type": "code",
   "execution_count": null,
   "metadata": {},
   "outputs": [],
   "source": [
    "###############################################################################\n",
    "# Optimize assignment count and assign members\n",
    "###############################################################################\n",
    "from script.assign import *\n",
    "# Assignment count optimization\n",
    "dict_c_diff_score_current = {'ampm': 0.001, 'daynight': 0.001, 'ampmdaynight': 0.001, 'oc': 0.001, 'ect': 0.01}\n",
    "dict_c_diff_score_total = {'ampm': 0.01, 'daynight': 0.01, 'ampmdaynight': 0.01, 'oc': 0.01, 'ect': 0.1}\n",
    "#dict_c_diff_score_total = {'ampm': 0.01, 'daynight': 0.01, 'ampmdaynight': 1.0, 'oc': 0.01, 'ect': 0.1}\n",
    "# Individual assignment\n",
    "# Parameters for avoiding/penalizing close duties\n",
    "dict_closeduty = {'daynight': {'l_duty': ['day', 'ocday', 'night', 'emnight', 'ocnight'], 'thr_hard': 2, 'thr_soft': 5}, # 1: avoid within same day, 2: avoid within 2 continuous days\n",
    "                  'ect':      {'l_duty': ['ect'],                                         'thr_hard': 1, 'thr_soft': 4},\n",
    "                  'ampm':     {'l_duty': ['am', 'pm'],                                    'thr_hard': 1, 'thr_soft': 2}}\n",
    "#c_assign_suboptimal, c_cnt_deviation, c_closeduty = 0.001, 0.001, 0.1\n",
    "c_assign_suboptimal, c_cnt_deviation, c_closeduty = 0.0001, 0.1, 0.01\n",
    "l_date_duty_fulltime = []\n",
    "# Count deviation penalization mode. student twice-assignation is limited elsewhere\n",
    "type_limit = 'soft'  # 'hard': never exceed, 'soft': outlier penalized, 'ignore': no penalty\n",
    "l_date_duty_skip_manual = []\n",
    "#l_date_duty_skip_manual = ['23_'] # All duties starting with 23_\n",
    "#l_date_duty_skip_manual = ['23_am']\n",
    "\n",
    "d_assign, d_assign_date_print, d_assign_member, d_deviation, d_score_print, d_closeduty =\\\n",
    "    optimize_count_and_assign(lp_root, year_plan, month_plan, year_start, month_start,l_type_score, l_class_duty, dict_c_diff_score_current,\n",
    "                              dict_c_diff_score_total, l_date_duty_skip_manual, dict_closeduty, ll_avoid_adjacent, l_title_fulltime,\n",
    "                              l_date_duty_fulltime, type_limit, c_assign_suboptimal, c_cnt_deviation, c_closeduty, dict_score_duty, dict_score_class)"
   ]
  },
  {
   "cell_type": "code",
   "execution_count": 2,
   "metadata": {},
   "outputs": [
    {
     "name": "stdout",
     "output_type": "stream",
     "text": [
      "Please visit this URL to authorize this application: https://accounts.google.com/o/oauth2/auth?response_type=code&client_id=1093971591548-pijo8937jt1vo6udm90gf5ld2lr6bb86.apps.googleusercontent.com&redirect_uri=http%3A%2F%2Flocalhost%3A58969%2F&scope=https%3A%2F%2Fwww.googleapis.com%2Fauth%2Fcalendar&state=XAKTfrElnBAJSuoAcaJo6eqD36YPUM&access_type=offline\n",
      "Adding member: 10.0\n",
      "              0    1    2    3    4    5    6    7   10   11  ...   31   32  \\\n",
      "1_day       NaN  NaN  NaN  NaN  NaN  0.0  0.0  0.0  0.0  0.0  ...  0.0  0.0   \n",
      "1_ocday     1.0  1.0  1.0  1.0  1.0  0.0  0.0  0.0  0.0  NaN  ...  NaN  NaN   \n",
      "1_night     NaN  NaN  NaN  NaN  NaN  0.0  0.0  0.0  0.0  0.0  ...  0.0  0.0   \n",
      "1_ocnight   1.0  1.0  1.0  1.0  1.0  0.0  0.0  0.0  0.0  NaN  ...  NaN  NaN   \n",
      "2_day       NaN  NaN  NaN  NaN  NaN  0.0  0.0  0.0  0.0  0.0  ...  1.0  1.0   \n",
      "...         ...  ...  ...  ...  ...  ...  ...  ...  ...  ...  ...  ...  ...   \n",
      "29_ocnight  1.0  0.0  0.0  1.0  1.0  1.0  0.0  0.0  0.0  NaN  ...  NaN  NaN   \n",
      "30_day      NaN  NaN  NaN  NaN  NaN  0.0  0.0  0.0  0.0  0.0  ...  1.0  1.0   \n",
      "30_ocday    1.0  0.0  0.0  1.0  1.0  1.0  0.0  0.0  0.0  NaN  ...  NaN  NaN   \n",
      "30_night    NaN  NaN  NaN  NaN  NaN  0.0  0.0  0.0  0.0  0.0  ...  2.0  0.0   \n",
      "30_ocnight  1.0  0.0  0.0  1.0  1.0  0.0  0.0  0.0  0.0  NaN  ...  NaN  NaN   \n",
      "\n",
      "             34   35   37   38   39   42   43   44  \n",
      "1_day       0.0  2.0  0.0  1.0  0.0  1.0  0.0  0.0  \n",
      "1_ocday     0.0  NaN  NaN  NaN  NaN  NaN  NaN  NaN  \n",
      "1_night     0.0  2.0  0.0  0.0  0.0  1.0  0.0  0.0  \n",
      "1_ocnight   0.0  NaN  NaN  NaN  NaN  NaN  NaN  NaN  \n",
      "2_day       0.0  0.0  0.0  1.0  0.0  1.0  1.0  0.0  \n",
      "...         ...  ...  ...  ...  ...  ...  ...  ...  \n",
      "29_ocnight  0.0  NaN  NaN  NaN  NaN  NaN  NaN  NaN  \n",
      "30_day      0.0  0.0  0.0  1.0  0.0  1.0  1.0  0.0  \n",
      "30_ocday    0.0  NaN  NaN  NaN  NaN  NaN  NaN  NaN  \n",
      "30_night    0.0  0.0  0.0  0.0  0.0  1.0  1.0  0.0  \n",
      "30_ocnight  0.0  NaN  NaN  NaN  NaN  NaN  NaN  NaN  \n",
      "\n",
      "[120 rows x 29 columns]\n",
      "24_ect\n",
      "Empty DataFrame\n",
      "Columns: [0, 1, 2, 3, 4, 5, 6, 7, 10, 11, 15, 16, 19, 20, 23, 24, 25, 27, 29, 31, 32, 34, 35, 37, 38, 39, 42, 43, 44]\n",
      "Index: []\n",
      "\n",
      "[0 rows x 29 columns]\n",
      "Empty DataFrame\n",
      "Columns: [0, 1, 2, 3, 4, 5, 6, 7, 10, 11, 15, 16, 19, 20, 23, 24, 25, 27, 29, 31, 32, 34, 35, 37, 38, 39, 42, 43, 44]\n",
      "Index: []\n",
      "\n",
      "[0 rows x 29 columns]\n",
      "Empty DataFrame\n",
      "Columns: [0, 1, 2, 3, 4, 5, 6, 7, 10, 11, 15, 16, 19, 20, 23, 24, 25, 27, 29, 31, 32, 34, 35, 37, 38, 39, 42, 43, 44]\n",
      "Index: []\n",
      "\n",
      "[0 rows x 29 columns]\n"
     ]
    },
    {
     "ename": "ValueError",
     "evalue": "Cannot index with multidimensional key",
     "output_type": "error",
     "traceback": [
      "\u001b[1;31m---------------------------------------------------------------------------\u001b[0m",
      "\u001b[1;31mValueError\u001b[0m                                Traceback (most recent call last)",
      "Input \u001b[1;32mIn [2]\u001b[0m, in \u001b[0;36m<cell line: 5>\u001b[1;34m()\u001b[0m\n\u001b[0;32m      1\u001b[0m \u001b[38;5;66;03m###############################################################################\u001b[39;00m\n\u001b[0;32m      2\u001b[0m \u001b[38;5;66;03m# Notify Google calendar\u001b[39;00m\n\u001b[0;32m      3\u001b[0m \u001b[38;5;66;03m###############################################################################\u001b[39;00m\n\u001b[0;32m      4\u001b[0m \u001b[38;5;28;01mfrom\u001b[39;00m \u001b[38;5;21;01mscript\u001b[39;00m\u001b[38;5;21;01m.\u001b[39;00m\u001b[38;5;21;01mnotify\u001b[39;00m \u001b[38;5;28;01mimport\u001b[39;00m \u001b[38;5;241m*\u001b[39m\n\u001b[1;32m----> 5\u001b[0m \u001b[43mupdate_calendar\u001b[49m\u001b[43m(\u001b[49m\u001b[43mlp_root\u001b[49m\u001b[43m,\u001b[49m\u001b[43m \u001b[49m\u001b[43myear_plan\u001b[49m\u001b[43m,\u001b[49m\u001b[43m \u001b[49m\u001b[43mmonth_plan\u001b[49m\u001b[43m,\u001b[49m\u001b[43m \u001b[49m\u001b[43ml_scope\u001b[49m\u001b[43m,\u001b[49m\u001b[43m \u001b[49m\u001b[43mdict_time_duty\u001b[49m\u001b[43m,\u001b[49m\u001b[43m \u001b[49m\u001b[43mt_sleep\u001b[49m\u001b[43m)\u001b[49m\n",
      "File \u001b[1;32md:\\atiro\\GitHub\\dutyshift\\script\\notify.py:87\u001b[0m, in \u001b[0;36mupdate_calendar\u001b[1;34m(lp_root, year_plan, month_plan, l_scope, dict_time_duty, t_sleep)\u001b[0m\n\u001b[0;32m     85\u001b[0m \u001b[38;5;28mprint\u001b[39m(\u001b[38;5;124m'\u001b[39m\u001b[38;5;124mAdding member:\u001b[39m\u001b[38;5;124m'\u001b[39m, \u001b[38;5;28mstr\u001b[39m(id_member))\n\u001b[0;32m     86\u001b[0m d_date_duty_member \u001b[38;5;241m=\u001b[39m d_date_duty_add[d_date_duty_add[\u001b[38;5;124m'\u001b[39m\u001b[38;5;124mid_member\u001b[39m\u001b[38;5;124m'\u001b[39m] \u001b[38;5;241m==\u001b[39m id_member]\n\u001b[1;32m---> 87\u001b[0m l_result_add_add \u001b[38;5;241m=\u001b[39m \u001b[43madd_duty\u001b[49m\u001b[43m(\u001b[49m\u001b[43mservice_calendar\u001b[49m\u001b[43m,\u001b[49m\u001b[43m \u001b[49m\u001b[43mid_calendar\u001b[49m\u001b[43m,\u001b[49m\u001b[43m \u001b[49m\u001b[43md_date_duty_member\u001b[49m\u001b[43m,\u001b[49m\u001b[43m \u001b[49m\u001b[43md_member\u001b[49m\u001b[43m,\u001b[49m\u001b[43m \u001b[49m\u001b[43md_time_duty\u001b[49m\u001b[43m,\u001b[49m\u001b[43m \u001b[49m\u001b[43md_availability\u001b[49m\u001b[43m)\u001b[49m\n\u001b[0;32m     88\u001b[0m l_result_add \u001b[38;5;241m+\u001b[39m\u001b[38;5;241m=\u001b[39m l_result_add_add\n\u001b[0;32m     89\u001b[0m sleep(t_sleep)\n",
      "File \u001b[1;32md:\\atiro\\GitHub\\dutyshift\\script\\notify.py:137\u001b[0m, in \u001b[0;36madd_duty\u001b[1;34m(service, id_calendar, d_date_duty, d_member, d_time_duty, d_availability)\u001b[0m\n\u001b[0;32m    133\u001b[0m \u001b[38;5;28mprint\u001b[39m(d_availability\u001b[38;5;241m.\u001b[39mloc[d_availability\u001b[38;5;241m.\u001b[39mindex \u001b[38;5;241m==\u001b[39m date_duty,:]\u001b[38;5;241m.\u001b[39mreset_index(drop \u001b[38;5;241m=\u001b[39m \u001b[38;5;28;01mTrue\u001b[39;00m)\u001b[38;5;241m.\u001b[39msqueeze())\n\u001b[0;32m    135\u001b[0m \u001b[38;5;66;03m#print(s_id_member_proxy)\u001b[39;00m\n\u001b[0;32m    136\u001b[0m \u001b[38;5;66;03m#print(s_id_member_proxy.index)\u001b[39;00m\n\u001b[1;32m--> 137\u001b[0m l_id_member_proxy \u001b[38;5;241m=\u001b[39m [\u001b[38;5;28mint\u001b[39m(\u001b[38;5;28mid\u001b[39m) \u001b[38;5;28;01mfor\u001b[39;00m \u001b[38;5;28mid\u001b[39m \u001b[38;5;129;01min\u001b[39;00m \u001b[43ms_id_member_proxy\u001b[49m\u001b[38;5;241;43m.\u001b[39;49m\u001b[43mloc\u001b[49m\u001b[43m[\u001b[49m\u001b[43ms_id_member_proxy\u001b[49m\u001b[43m \u001b[49m\u001b[38;5;241;43m>\u001b[39;49m\u001b[43m \u001b[49m\u001b[38;5;241;43m0\u001b[39;49m\u001b[43m]\u001b[49m\u001b[38;5;241m.\u001b[39mindex\u001b[38;5;241m.\u001b[39mtolist()]\n\u001b[0;32m    138\u001b[0m d_member_proxy \u001b[38;5;241m=\u001b[39m d_member\u001b[38;5;241m.\u001b[39mloc[d_member[\u001b[38;5;124m'\u001b[39m\u001b[38;5;124mid_member\u001b[39m\u001b[38;5;124m'\u001b[39m]\u001b[38;5;241m.\u001b[39misin(l_id_member_proxy),[\u001b[38;5;124m'\u001b[39m\u001b[38;5;124mid_member\u001b[39m\u001b[38;5;124m'\u001b[39m, \u001b[38;5;124m'\u001b[39m\u001b[38;5;124mname_jpn_full\u001b[39m\u001b[38;5;124m'\u001b[39m, \u001b[38;5;124m'\u001b[39m\u001b[38;5;124mdesignation\u001b[39m\u001b[38;5;124m'\u001b[39m]]\n\u001b[0;32m    139\u001b[0m \u001b[38;5;66;03m# Consider designation status for day and night\u001b[39;00m\n",
      "File \u001b[1;32mc:\\Users\\atiro\\anaconda3\\envs\\ds1\\lib\\site-packages\\pandas\\core\\indexing.py:967\u001b[0m, in \u001b[0;36m_LocationIndexer.__getitem__\u001b[1;34m(self, key)\u001b[0m\n\u001b[0;32m    964\u001b[0m axis \u001b[38;5;241m=\u001b[39m \u001b[38;5;28mself\u001b[39m\u001b[38;5;241m.\u001b[39maxis \u001b[38;5;129;01mor\u001b[39;00m \u001b[38;5;241m0\u001b[39m\n\u001b[0;32m    966\u001b[0m maybe_callable \u001b[38;5;241m=\u001b[39m com\u001b[38;5;241m.\u001b[39mapply_if_callable(key, \u001b[38;5;28mself\u001b[39m\u001b[38;5;241m.\u001b[39mobj)\n\u001b[1;32m--> 967\u001b[0m \u001b[38;5;28;01mreturn\u001b[39;00m \u001b[38;5;28;43mself\u001b[39;49m\u001b[38;5;241;43m.\u001b[39;49m\u001b[43m_getitem_axis\u001b[49m\u001b[43m(\u001b[49m\u001b[43mmaybe_callable\u001b[49m\u001b[43m,\u001b[49m\u001b[43m \u001b[49m\u001b[43maxis\u001b[49m\u001b[38;5;241;43m=\u001b[39;49m\u001b[43maxis\u001b[49m\u001b[43m)\u001b[49m\n",
      "File \u001b[1;32mc:\\Users\\atiro\\anaconda3\\envs\\ds1\\lib\\site-packages\\pandas\\core\\indexing.py:1189\u001b[0m, in \u001b[0;36m_LocIndexer._getitem_axis\u001b[1;34m(self, key, axis)\u001b[0m\n\u001b[0;32m   1186\u001b[0m \u001b[38;5;28;01mif\u001b[39;00m \u001b[38;5;129;01mnot\u001b[39;00m (\u001b[38;5;28misinstance\u001b[39m(key, \u001b[38;5;28mtuple\u001b[39m) \u001b[38;5;129;01mand\u001b[39;00m \u001b[38;5;28misinstance\u001b[39m(labels, MultiIndex)):\n\u001b[0;32m   1188\u001b[0m     \u001b[38;5;28;01mif\u001b[39;00m \u001b[38;5;28mhasattr\u001b[39m(key, \u001b[38;5;124m\"\u001b[39m\u001b[38;5;124mndim\u001b[39m\u001b[38;5;124m\"\u001b[39m) \u001b[38;5;129;01mand\u001b[39;00m key\u001b[38;5;241m.\u001b[39mndim \u001b[38;5;241m>\u001b[39m \u001b[38;5;241m1\u001b[39m:\n\u001b[1;32m-> 1189\u001b[0m         \u001b[38;5;28;01mraise\u001b[39;00m \u001b[38;5;167;01mValueError\u001b[39;00m(\u001b[38;5;124m\"\u001b[39m\u001b[38;5;124mCannot index with multidimensional key\u001b[39m\u001b[38;5;124m\"\u001b[39m)\n\u001b[0;32m   1191\u001b[0m     \u001b[38;5;28;01mreturn\u001b[39;00m \u001b[38;5;28mself\u001b[39m\u001b[38;5;241m.\u001b[39m_getitem_iterable(key, axis\u001b[38;5;241m=\u001b[39maxis)\n\u001b[0;32m   1193\u001b[0m \u001b[38;5;66;03m# nested tuple slicing\u001b[39;00m\n",
      "\u001b[1;31mValueError\u001b[0m: Cannot index with multidimensional key"
     ]
    }
   ],
   "source": [
    "###############################################################################\n",
    "# Notify Google calendar\n",
    "###############################################################################\n",
    "from script.notify import *\n",
    "update_calendar(lp_root, year_plan, month_plan, l_scope, dict_time_duty, t_sleep)"
   ]
  },
  {
   "cell_type": "code",
   "execution_count": null,
   "metadata": {},
   "outputs": [],
   "source": [
    "###############################################################################\n",
    "# Collect replacement application\n",
    "###############################################################################\n",
    "from script.replace import *\n",
    "d_replace_checked = check_replacement(lp_root, year_plan, month_plan, sheet_id)"
   ]
  },
  {
   "cell_type": "code",
   "execution_count": null,
   "metadata": {},
   "outputs": [],
   "source": [
    "###############################################################################\n",
    "# Apply checked replacement plan\n",
    "###############################################################################\n",
    "d_assign, d_assign_date_print, d_assign_member, d_deviation, d_deviation_summary, d_score_current, d_score_total, d_score_print =\\\n",
    "    replace_assignment(lp_root, year_plan, month_plan, l_type_score, l_class_duty, d_replace_checked)"
   ]
  }
 ],
 "metadata": {
  "kernelspec": {
   "display_name": "ds1",
   "language": "python",
   "name": "python3"
  },
  "language_info": {
   "codemirror_mode": {
    "name": "ipython",
    "version": 3
   },
   "file_extension": ".py",
   "mimetype": "text/x-python",
   "name": "python",
   "nbconvert_exporter": "python",
   "pygments_lexer": "ipython3",
   "version": "3.8.13"
  }
 },
 "nbformat": 4,
 "nbformat_minor": 2
}
