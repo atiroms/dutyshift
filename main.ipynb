{
 "cells": [
  {
   "cell_type": "code",
   "execution_count": 1,
   "metadata": {},
   "outputs": [],
   "source": [
    "###############################################################################\n",
    "# Common parameters\n",
    "###############################################################################\n",
    "year_plan, month_plan  = 2024, 4\n",
    "l_holiday = [29]\n",
    "l_date_ect_cancel = []\n",
    "\n",
    "from parameter import *"
   ]
  },
  {
   "cell_type": "code",
   "execution_count": null,
   "metadata": {},
   "outputs": [],
   "source": [
    "###############################################################################\n",
    "# Create Google form\n",
    "###############################################################################\n",
    "from form import *\n",
    "d_cal, d_date_duty, s_cnt_duty, s_cnt_class_duty, d_cal_duty, d_form =\\\n",
    "    prepare_form(lp_root, year_plan, month_plan, l_holiday, l_date_ect_cancel, l_day_ect, day_em, l_week_em, l_class_duty, dict_duty, dict_score_duty, dict_duty_jpn, dict_title_duty, dict_class_duty)"
   ]
  },
  {
   "cell_type": "code",
   "execution_count": null,
   "metadata": {},
   "outputs": [],
   "source": [
    "###############################################################################\n",
    "# Collect google form response\n",
    "###############################################################################\n",
    "from collect import *\n",
    "str_member_missing, str_mail_missing, d_availability, d_info, d_member =\\\n",
    "    collect_availability(lp_root, year_plan, month_plan, address_response, dict_jpnday, dict_duty_jpn)"
   ]
  },
  {
   "cell_type": "code",
   "execution_count": null,
   "metadata": {},
   "outputs": [],
   "source": [
    "###############################################################################\n",
    "# Optimize assignment count and assign members\n",
    "###############################################################################\n",
    "from assign import *\n",
    "# Assignment count optimization\n",
    "dict_c_diff_score_current = {'ampm': 0.001, 'daynight': 0.001, 'ampmdaynight': 0.001, 'oc': 0.001, 'ect': 0.01}\n",
    "dict_c_diff_score_total = {'ampm': 0.01, 'daynight': 0.01, 'ampmdaynight': 0.01, 'oc': 0.01, 'ect': 0.1}\n",
    "#dict_c_diff_score_total = {'ampm': 0.01, 'daynight': 0.01, 'ampmdaynight': 1.0, 'oc': 0.01, 'ect': 0.1}\n",
    "# Individual assignment\n",
    "#c_assign_suboptimal, c_cnt_deviation, c_closeduty = 0.001, 0.001, 0.1\n",
    "c_assign_suboptimal, c_cnt_deviation, c_closeduty = 0.0001, 0.1, 0.01\n",
    "l_date_duty_fulltime = []\n",
    "type_limit = 'soft' # 'hard': never exceed, 'soft': outlier penalized, 'ignore': no penalty\n",
    "l_date_duty_skip_manual = []\n",
    "#l_date_duty_skip_manual = ['23_'] # All duties starting with 23_\n",
    "#l_date_duty_skip_manual = ['23_am']\n",
    "\n",
    "d_assign, d_assign_date_print, d_assign_member, d_deviation, d_score_print, d_closeduty =\\\n",
    "    optimize_count_and_assign(lp_root, year_plan, month_plan, year_start, month_start,l_type_score, l_class_duty, dict_c_diff_score_current,\n",
    "                              dict_c_diff_score_total, l_date_duty_skip_manual, dict_closeduty, ll_avoid_adjacent, l_title_fulltime,\n",
    "                              l_date_duty_fulltime, type_limit, c_assign_suboptimal, c_cnt_deviation, c_closeduty, dict_score_duty, dict_score_class)"
   ]
  },
  {
   "cell_type": "code",
   "execution_count": null,
   "metadata": {},
   "outputs": [],
   "source": [
    "###############################################################################\n",
    "# Notify google calendar\n",
    "###############################################################################\n",
    "from notify import *\n",
    "notify(lp_root, year_plan, month_plan, l_scope, t_sleep, dict_time_duty)"
   ]
  },
  {
   "cell_type": "code",
   "execution_count": 2,
   "metadata": {},
   "outputs": [
    {
     "data": {
      "text/html": [
       "<div>\n",
       "<style scoped>\n",
       "    .dataframe tbody tr th:only-of-type {\n",
       "        vertical-align: middle;\n",
       "    }\n",
       "\n",
       "    .dataframe tbody tr th {\n",
       "        vertical-align: top;\n",
       "    }\n",
       "\n",
       "    .dataframe thead th {\n",
       "        text-align: right;\n",
       "    }\n",
       "</style>\n",
       "<table border=\"1\" class=\"dataframe\">\n",
       "  <thead>\n",
       "    <tr style=\"text-align: right;\">\n",
       "      <th></th>\n",
       "      <th>l_member</th>\n",
       "      <th>l_member_jpn</th>\n",
       "      <th>l_member_mail</th>\n",
       "    </tr>\n",
       "  </thead>\n",
       "  <tbody>\n",
       "    <tr>\n",
       "      <th>1_am</th>\n",
       "      <td>2, 3, 11</td>\n",
       "      <td>榊原, 近藤, 森田進</td>\n",
       "      <td>sakakibaraeisuke@gmail.com, kondo.psy@gmail.co...</td>\n",
       "    </tr>\n",
       "    <tr>\n",
       "      <th>2_am</th>\n",
       "      <td>2, 4, 11</td>\n",
       "      <td>榊原, 市橋, 森田進</td>\n",
       "      <td>sakakibaraeisuke@gmail.com, ichy143@gmail.com,...</td>\n",
       "    </tr>\n",
       "    <tr>\n",
       "      <th>3_am</th>\n",
       "      <td>4</td>\n",
       "      <td>市橋</td>\n",
       "      <td>ichy143@gmail.com</td>\n",
       "    </tr>\n",
       "    <tr>\n",
       "      <th>4_am</th>\n",
       "      <td>2, 3, 10, 11, 34</td>\n",
       "      <td>榊原, 近藤, 熊倉, 森田進, 星野</td>\n",
       "      <td>sakakibaraeisuke@gmail.com, kondo.psy@gmail.co...</td>\n",
       "    </tr>\n",
       "    <tr>\n",
       "      <th>5_am</th>\n",
       "      <td>34</td>\n",
       "      <td>星野</td>\n",
       "      <td>miz.hoshino@gmail.com</td>\n",
       "    </tr>\n",
       "    <tr>\n",
       "      <th>...</th>\n",
       "      <td>...</td>\n",
       "      <td>...</td>\n",
       "      <td>...</td>\n",
       "    </tr>\n",
       "    <tr>\n",
       "      <th>17_ect</th>\n",
       "      <td>4, 20, 41, 42</td>\n",
       "      <td>市橋, 清田, 金, 市川</td>\n",
       "      <td>ichy143@gmail.com, hiro@juzbox.com, Primavera9...</td>\n",
       "    </tr>\n",
       "    <tr>\n",
       "      <th>18_ect</th>\n",
       "      <td>2, 7, 11, 42, 43</td>\n",
       "      <td>榊原, 越山, 森田進, 市川, 鈴木</td>\n",
       "      <td>sakakibaraeisuke@gmail.com, koshiyamadaisuke@g...</td>\n",
       "    </tr>\n",
       "    <tr>\n",
       "      <th>22_ect</th>\n",
       "      <td>2, 3, 7, 10, 20, 41, 42, 43</td>\n",
       "      <td>榊原, 近藤, 越山, 熊倉, 清田, 金, 市川, 鈴木</td>\n",
       "      <td>sakakibaraeisuke@gmail.com, kondo.psy@gmail.co...</td>\n",
       "    </tr>\n",
       "    <tr>\n",
       "      <th>24_ect</th>\n",
       "      <td>4, 20, 41, 42</td>\n",
       "      <td>市橋, 清田, 金, 市川</td>\n",
       "      <td>ichy143@gmail.com, hiro@juzbox.com, Primavera9...</td>\n",
       "    </tr>\n",
       "    <tr>\n",
       "      <th>25_ect</th>\n",
       "      <td>2, 7, 34, 42, 43</td>\n",
       "      <td>榊原, 越山, 星野, 市川, 鈴木</td>\n",
       "      <td>sakakibaraeisuke@gmail.com, koshiyamadaisuke@g...</td>\n",
       "    </tr>\n",
       "  </tbody>\n",
       "</table>\n",
       "<p>132 rows × 3 columns</p>\n",
       "</div>"
      ],
      "text/plain": [
       "                           l_member                   l_member_jpn  \\\n",
       "1_am                       2, 3, 11                    榊原, 近藤, 森田進   \n",
       "2_am                       2, 4, 11                    榊原, 市橋, 森田進   \n",
       "3_am                              4                             市橋   \n",
       "4_am               2, 3, 10, 11, 34            榊原, 近藤, 熊倉, 森田進, 星野   \n",
       "5_am                             34                             星野   \n",
       "...                             ...                            ...   \n",
       "17_ect                4, 20, 41, 42                  市橋, 清田, 金, 市川   \n",
       "18_ect             2, 7, 11, 42, 43            榊原, 越山, 森田進, 市川, 鈴木   \n",
       "22_ect  2, 3, 7, 10, 20, 41, 42, 43  榊原, 近藤, 越山, 熊倉, 清田, 金, 市川, 鈴木   \n",
       "24_ect                4, 20, 41, 42                  市橋, 清田, 金, 市川   \n",
       "25_ect             2, 7, 34, 42, 43             榊原, 越山, 星野, 市川, 鈴木   \n",
       "\n",
       "                                            l_member_mail  \n",
       "1_am    sakakibaraeisuke@gmail.com, kondo.psy@gmail.co...  \n",
       "2_am    sakakibaraeisuke@gmail.com, ichy143@gmail.com,...  \n",
       "3_am                                    ichy143@gmail.com  \n",
       "4_am    sakakibaraeisuke@gmail.com, kondo.psy@gmail.co...  \n",
       "5_am                                miz.hoshino@gmail.com  \n",
       "...                                                   ...  \n",
       "17_ect  ichy143@gmail.com, hiro@juzbox.com, Primavera9...  \n",
       "18_ect  sakakibaraeisuke@gmail.com, koshiyamadaisuke@g...  \n",
       "22_ect  sakakibaraeisuke@gmail.com, kondo.psy@gmail.co...  \n",
       "24_ect  ichy143@gmail.com, hiro@juzbox.com, Primavera9...  \n",
       "25_ect  sakakibaraeisuke@gmail.com, koshiyamadaisuke@g...  \n",
       "\n",
       "[132 rows x 3 columns]"
      ]
     },
     "execution_count": 2,
     "metadata": {},
     "output_type": "execute_result"
    }
   ],
   "source": [
    "###############################################################################\n",
    "# Check availability of certain date_duty\n",
    "###############################################################################\n",
    "from check import *\n",
    "check_availability_all(lp_root, year_plan, month_plan)"
   ]
  },
  {
   "cell_type": "code",
   "execution_count": null,
   "metadata": {},
   "outputs": [],
   "source": [
    "###############################################################################\n",
    "# Check availability of certain member\n",
    "###############################################################################\n",
    "from check import *\n",
    "id_member = 37\n",
    "check_availability_member(lp_root, year_plan, month_plan, id_member)"
   ]
  },
  {
   "cell_type": "code",
   "execution_count": null,
   "metadata": {},
   "outputs": [],
   "source": [
    "###############################################################################\n",
    "# Replace assignment\n",
    "###############################################################################\n",
    "from replace import *\n",
    "# Load from Gforms result and check\n",
    "d_replace_checked = check_replacement(lp_root, year_plan, month_plan, sheet_id)"
   ]
  },
  {
   "cell_type": "code",
   "execution_count": null,
   "metadata": {},
   "outputs": [],
   "source": [
    "# Apply checked replacement plan\n",
    "d_assign, d_assign_date_print, d_assign_member, d_deviation, d_deviation_summary, d_score_current, d_score_total, d_score_print =\\\n",
    "    replace_assignment(lp_root, year_plan, month_plan, l_type_score, l_class_duty, d_replace_checked)"
   ]
  },
  {
   "cell_type": "code",
   "execution_count": null,
   "metadata": {},
   "outputs": [],
   "source": [
    "# Add new event to Gcalendar\n",
    "l_result_event = add_replaced_calendar(lp_root, year_plan, month_plan, d_replace_checked, l_scope)"
   ]
  }
 ],
 "metadata": {
  "kernelspec": {
   "display_name": "ds1",
   "language": "python",
   "name": "python3"
  },
  "language_info": {
   "codemirror_mode": {
    "name": "ipython",
    "version": 3
   },
   "file_extension": ".py",
   "mimetype": "text/x-python",
   "name": "python",
   "nbconvert_exporter": "python",
   "pygments_lexer": "ipython3",
   "version": "3.8.13"
  }
 },
 "nbformat": 4,
 "nbformat_minor": 2
}
