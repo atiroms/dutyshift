{
 "cells": [
  {
   "cell_type": "code",
   "execution_count": null,
   "metadata": {},
   "outputs": [],
   "source": [
    "###############################################################################\n",
    "# Common parameters\n",
    "###############################################################################\n",
    "year_plan, month_plan  = 2024, 6\n",
    "l_holiday = []\n",
    "l_date_ect_cancel = [6]\n",
    "\n",
    "from script.parameter import *"
   ]
  },
  {
   "cell_type": "code",
   "execution_count": null,
   "metadata": {},
   "outputs": [],
   "source": [
    "###############################################################################\n",
    "# Create Google form\n",
    "###############################################################################\n",
    "from script.form import *\n",
    "d_cal, d_date_duty, s_cnt_duty, s_cnt_class_duty, d_cal_duty, d_form =\\\n",
    "    prepare_form(lp_root, year_plan, month_plan, l_holiday, l_date_ect_cancel, l_day_ect, day_em, l_week_em, l_class_duty, dict_duty, dict_score_duty, dict_duty_jpn, dict_title_duty, dict_class_duty)"
   ]
  },
  {
   "cell_type": "code",
   "execution_count": null,
   "metadata": {},
   "outputs": [],
   "source": [
    "###############################################################################\n",
    "# Collect google form response\n",
    "###############################################################################\n",
    "from script.collect import *\n",
    "str_member_missing, str_mail_missing, d_availability, d_info, d_member =\\\n",
    "    collect_availability(lp_root, year_plan, month_plan, id_sheet_response, dict_jpnday, dict_duty_jpn)"
   ]
  },
  {
   "cell_type": "code",
   "execution_count": null,
   "metadata": {},
   "outputs": [],
   "source": [
    "###############################################################################\n",
    "# Optimize assignment count and assign members\n",
    "###############################################################################\n",
    "from script.assign import *\n",
    "# Assignment count optimization\n",
    "dict_c_diff_score_current = {'ampm': 0.001, 'daynight': 0.001, 'ampmdaynight': 0.001, 'oc': 0.001, 'ect': 0.01}\n",
    "dict_c_diff_score_total = {'ampm': 0.01, 'daynight': 0.01, 'ampmdaynight': 0.01, 'oc': 0.01, 'ect': 0.1}\n",
    "#dict_c_diff_score_total = {'ampm': 0.01, 'daynight': 0.01, 'ampmdaynight': 1.0, 'oc': 0.01, 'ect': 0.1}\n",
    "# Individual assignment\n",
    "# Parameters for avoiding/penalizing close duties\n",
    "dict_closeduty = {'daynight': {'l_duty': ['day', 'ocday', 'night', 'emnight', 'ocnight'], 'thr_hard': 2, 'thr_soft': 5}, # 1: avoid within same day, 2: avoid within 2 continuous days\n",
    "                  'ect':      {'l_duty': ['ect'],                                         'thr_hard': 1, 'thr_soft': 4},\n",
    "                  'ampm':     {'l_duty': ['am', 'pm'],                                    'thr_hard': 1, 'thr_soft': 2}}\n",
    "#c_assign_suboptimal, c_cnt_deviation, c_closeduty = 0.001, 0.001, 0.1\n",
    "c_assign_suboptimal, c_cnt_deviation, c_closeduty = 0.0001, 0.1, 0.01\n",
    "l_date_duty_fulltime = []\n",
    "# Count deviation penalization mode. student twice-assignation is limited elsewhere\n",
    "type_limit = 'soft'  # 'hard': never exceed, 'soft': outlier penalized, 'ignore': no penalty\n",
    "l_date_duty_skip_manual = []\n",
    "#l_date_duty_skip_manual = ['23_'] # All duties starting with 23_\n",
    "#l_date_duty_skip_manual = ['23_am']\n",
    "\n",
    "d_assign, d_assign_date_print, d_assign_member, d_deviation, d_score_print, d_closeduty =\\\n",
    "    optimize_count_and_assign(lp_root, year_plan, month_plan, year_start, month_start,l_type_score, l_class_duty, dict_c_diff_score_current,\n",
    "                              dict_c_diff_score_total, l_date_duty_skip_manual, dict_closeduty, ll_avoid_adjacent, l_title_fulltime,\n",
    "                              l_date_duty_fulltime, type_limit, c_assign_suboptimal, c_cnt_deviation, c_closeduty, dict_score_duty, dict_score_class)"
   ]
  },
  {
   "cell_type": "code",
   "execution_count": null,
   "metadata": {},
   "outputs": [],
   "source": [
    "###############################################################################\n",
    "# Notify Google calendar\n",
    "###############################################################################\n",
    "from script.notify import *\n",
    "update_calendar(lp_root, year_plan, month_plan, l_scope, dict_time_duty, t_sleep)"
   ]
  },
  {
   "cell_type": "code",
   "execution_count": null,
   "metadata": {},
   "outputs": [],
   "source": [
    "###############################################################################\n",
    "# Collect replacement application\n",
    "###############################################################################\n",
    "from script.replace import *\n",
    "d_replace_checked = check_replacement(lp_root, year_plan, month_plan, sheet_id)"
   ]
  },
  {
   "cell_type": "code",
   "execution_count": null,
   "metadata": {},
   "outputs": [],
   "source": [
    "###############################################################################\n",
    "# Apply checked replacement plan\n",
    "###############################################################################\n",
    "d_assign, d_assign_date_print, d_assign_member, d_deviation, d_deviation_summary, d_score_current, d_score_total, d_score_print =\\\n",
    "    replace_assignment(lp_root, year_plan, month_plan, l_type_score, l_class_duty, d_replace_checked)"
   ]
  }
 ],
 "metadata": {
  "kernelspec": {
   "display_name": "ds1",
   "language": "python",
   "name": "python3"
  },
  "language_info": {
   "codemirror_mode": {
    "name": "ipython",
    "version": 3
   },
   "file_extension": ".py",
   "mimetype": "text/x-python",
   "name": "python",
   "nbconvert_exporter": "python",
   "pygments_lexer": "ipython3",
   "version": "3.8.13"
  }
 },
 "nbformat": 4,
 "nbformat_minor": 2
}
