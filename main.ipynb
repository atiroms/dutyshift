{
 "cells": [
  {
   "cell_type": "code",
   "execution_count": 1,
   "metadata": {},
   "outputs": [],
   "source": [
    "###############################################################################\n",
    "# Common parameters\n",
    "###############################################################################\n",
    "year_plan, month_plan  = 2024, 5\n",
    "l_holiday = [3, 6]\n",
    "l_date_ect_cancel = []\n",
    "\n",
    "from script.parameter import *"
   ]
  },
  {
   "cell_type": "code",
   "execution_count": null,
   "metadata": {},
   "outputs": [],
   "source": [
    "###############################################################################\n",
    "# Create Google form\n",
    "###############################################################################\n",
    "from script.form import *\n",
    "d_cal, d_date_duty, s_cnt_duty, s_cnt_class_duty, d_cal_duty, d_form =\\\n",
    "    prepare_form(lp_root, year_plan, month_plan, l_holiday, l_date_ect_cancel, l_day_ect, day_em, l_week_em, l_class_duty, dict_duty, dict_score_duty, dict_duty_jpn, dict_title_duty, dict_class_duty)"
   ]
  },
  {
   "cell_type": "code",
   "execution_count": null,
   "metadata": {},
   "outputs": [],
   "source": [
    "###############################################################################\n",
    "# Collect google form response\n",
    "###############################################################################\n",
    "from script.collect import *\n",
    "str_member_missing, str_mail_missing, d_availability, d_info, d_member =\\\n",
    "    collect_availability(lp_root, year_plan, month_plan, id_sheet_response, dict_jpnday, dict_duty_jpn)"
   ]
  },
  {
   "cell_type": "code",
   "execution_count": null,
   "metadata": {},
   "outputs": [],
   "source": [
    "###############################################################################\n",
    "# Optimize assignment count and assign members\n",
    "###############################################################################\n",
    "from script.assign import *\n",
    "# Assignment count optimization\n",
    "dict_c_diff_score_current = {'ampm': 0.001, 'daynight': 0.001, 'ampmdaynight': 0.001, 'oc': 0.001, 'ect': 0.01}\n",
    "dict_c_diff_score_total = {'ampm': 0.01, 'daynight': 0.01, 'ampmdaynight': 0.01, 'oc': 0.01, 'ect': 0.1}\n",
    "#dict_c_diff_score_total = {'ampm': 0.01, 'daynight': 0.01, 'ampmdaynight': 1.0, 'oc': 0.01, 'ect': 0.1}\n",
    "# Individual assignment\n",
    "#c_assign_suboptimal, c_cnt_deviation, c_closeduty = 0.001, 0.001, 0.1\n",
    "c_assign_suboptimal, c_cnt_deviation, c_closeduty = 0.0001, 0.1, 0.01\n",
    "l_date_duty_fulltime = []\n",
    "type_limit = 'soft' # 'hard': never exceed, 'soft': outlier penalized, 'ignore': no penalty\n",
    "l_date_duty_skip_manual = []\n",
    "#l_date_duty_skip_manual = ['23_'] # All duties starting with 23_\n",
    "#l_date_duty_skip_manual = ['23_am']\n",
    "\n",
    "d_assign, d_assign_date_print, d_assign_member, d_deviation, d_score_print, d_closeduty =\\\n",
    "    optimize_count_and_assign(lp_root, year_plan, month_plan, year_start, month_start,l_type_score, l_class_duty, dict_c_diff_score_current,\n",
    "                              dict_c_diff_score_total, l_date_duty_skip_manual, dict_closeduty, ll_avoid_adjacent, l_title_fulltime,\n",
    "                              l_date_duty_fulltime, type_limit, c_assign_suboptimal, c_cnt_deviation, c_closeduty, dict_score_duty, dict_score_class)"
   ]
  },
  {
   "cell_type": "code",
   "execution_count": 2,
   "metadata": {},
   "outputs": [
    {
     "name": "stdout",
     "output_type": "stream",
     "text": [
      "Please visit this URL to authorize this application: https://accounts.google.com/o/oauth2/auth?response_type=code&client_id=1093971591548-pijo8937jt1vo6udm90gf5ld2lr6bb86.apps.googleusercontent.com&redirect_uri=http%3A%2F%2Flocalhost%3A61484%2F&scope=https%3A%2F%2Fwww.googleapis.com%2Fauth%2Fcalendar&state=YCCu4VXDOKdR0tZkf3ORaQ7Jd32IG1&access_type=offline\n"
     ]
    },
    {
     "ename": "AttributeError",
     "evalue": "'NoneType' object has no attribute 'loc'",
     "output_type": "error",
     "traceback": [
      "\u001b[1;31m---------------------------------------------------------------------------\u001b[0m",
      "\u001b[1;31mAttributeError\u001b[0m                            Traceback (most recent call last)",
      "Input \u001b[1;32mIn [2]\u001b[0m, in \u001b[0;36m<cell line: 5>\u001b[1;34m()\u001b[0m\n\u001b[0;32m      1\u001b[0m \u001b[38;5;66;03m###############################################################################\u001b[39;00m\n\u001b[0;32m      2\u001b[0m \u001b[38;5;66;03m# Notify Google calendar\u001b[39;00m\n\u001b[0;32m      3\u001b[0m \u001b[38;5;66;03m###############################################################################\u001b[39;00m\n\u001b[0;32m      4\u001b[0m \u001b[38;5;28;01mfrom\u001b[39;00m \u001b[38;5;21;01mscript\u001b[39;00m\u001b[38;5;21;01m.\u001b[39;00m\u001b[38;5;21;01mnotify\u001b[39;00m \u001b[38;5;28;01mimport\u001b[39;00m \u001b[38;5;241m*\u001b[39m\n\u001b[1;32m----> 5\u001b[0m \u001b[43mupdate_calendar\u001b[49m\u001b[43m(\u001b[49m\u001b[43mlp_root\u001b[49m\u001b[43m,\u001b[49m\u001b[43m \u001b[49m\u001b[43myear_plan\u001b[49m\u001b[43m,\u001b[49m\u001b[43m \u001b[49m\u001b[43mmonth_plan\u001b[49m\u001b[43m,\u001b[49m\u001b[43m \u001b[49m\u001b[43ml_scope\u001b[49m\u001b[43m,\u001b[49m\u001b[43m \u001b[49m\u001b[43mdict_time_duty\u001b[49m\u001b[43m,\u001b[49m\u001b[43m \u001b[49m\u001b[43mt_sleep\u001b[49m\u001b[43m)\u001b[49m\n",
      "File \u001b[1;32md:\\atiro\\GitHub\\dutyshift\\script\\notify.py:73\u001b[0m, in \u001b[0;36mupdate_calendar\u001b[1;34m(lp_root, year_plan, month_plan, l_scope, dict_time_duty, t_sleep)\u001b[0m\n\u001b[0;32m     70\u001b[0m d_assign_date_duty \u001b[38;5;241m=\u001b[39m pd\u001b[38;5;241m.\u001b[39mread_csv(os\u001b[38;5;241m.\u001b[39mpath\u001b[38;5;241m.\u001b[39mjoin(p_month, \u001b[38;5;124m'\u001b[39m\u001b[38;5;124massign_date_duty.csv\u001b[39m\u001b[38;5;124m'\u001b[39m))\n\u001b[0;32m     72\u001b[0m \u001b[38;5;66;03m# Compare existing and target events\u001b[39;00m\n\u001b[1;32m---> 73\u001b[0m l_date_duty_delete, l_date_duty_change, l_date_duty_add \u001b[38;5;241m=\u001b[39m \u001b[43mcompare_event\u001b[49m\u001b[43m(\u001b[49m\u001b[43md_assign_date_duty\u001b[49m\u001b[43m,\u001b[49m\u001b[43m \u001b[49m\u001b[43md_assign_calendar\u001b[49m\u001b[43m)\u001b[49m\n\u001b[0;32m     75\u001b[0m \u001b[38;5;66;03m# Delete events\u001b[39;00m\n\u001b[0;32m     76\u001b[0m l_result_delete \u001b[38;5;241m=\u001b[39m delete_duty(service_calendar, id_calendar, l_date_duty_delete \u001b[38;5;241m+\u001b[39m l_date_duty_change, d_assign_calendar)\n",
      "File \u001b[1;32md:\\atiro\\GitHub\\dutyshift\\script\\notify.py:49\u001b[0m, in \u001b[0;36mcompare_event\u001b[1;34m(d_assign_date_duty, d_event_exist)\u001b[0m\n\u001b[0;32m     47\u001b[0m date_duty \u001b[38;5;241m=\u001b[39m row[\u001b[38;5;124m'\u001b[39m\u001b[38;5;124mdate_duty\u001b[39m\u001b[38;5;124m'\u001b[39m]\n\u001b[0;32m     48\u001b[0m id_member \u001b[38;5;241m=\u001b[39m \u001b[38;5;28mint\u001b[39m(row[\u001b[38;5;124m'\u001b[39m\u001b[38;5;124mid_member\u001b[39m\u001b[38;5;124m'\u001b[39m])\n\u001b[1;32m---> 49\u001b[0m id_member_calendar \u001b[38;5;241m=\u001b[39m \u001b[43md_event_exist\u001b[49m\u001b[38;5;241;43m.\u001b[39;49m\u001b[43mloc\u001b[49m[d_event_exist[\u001b[38;5;124m'\u001b[39m\u001b[38;5;124mdate_duty\u001b[39m\u001b[38;5;124m'\u001b[39m] \u001b[38;5;241m==\u001b[39m date_duty, \u001b[38;5;124m'\u001b[39m\u001b[38;5;124mid_member\u001b[39m\u001b[38;5;124m'\u001b[39m]\u001b[38;5;241m.\u001b[39mtolist()\n\u001b[0;32m     50\u001b[0m \u001b[38;5;28;01mif\u001b[39;00m \u001b[38;5;28mlen\u001b[39m(id_member_calendar) \u001b[38;5;241m>\u001b[39m \u001b[38;5;241m0\u001b[39m:\n\u001b[0;32m     51\u001b[0m     \u001b[38;5;28;01mif\u001b[39;00m id_member_calendar[\u001b[38;5;241m0\u001b[39m] \u001b[38;5;241m!=\u001b[39m id_member:\n",
      "\u001b[1;31mAttributeError\u001b[0m: 'NoneType' object has no attribute 'loc'"
     ]
    }
   ],
   "source": [
    "###############################################################################\n",
    "# Notify Google calendar\n",
    "###############################################################################\n",
    "from script.notify import *\n",
    "update_calendar(lp_root, year_plan, month_plan, l_scope, dict_time_duty, t_sleep)"
   ]
  },
  {
   "cell_type": "code",
   "execution_count": null,
   "metadata": {},
   "outputs": [],
   "source": [
    "###############################################################################\n",
    "# Collect replacement application\n",
    "###############################################################################\n",
    "from script.replace import *\n",
    "# Load from Gforms result and check\n",
    "d_replace_checked = check_replacement(lp_root, year_plan, month_plan, sheet_id)"
   ]
  },
  {
   "cell_type": "code",
   "execution_count": null,
   "metadata": {},
   "outputs": [],
   "source": [
    "###############################################################################\n",
    "# Apply checked replacement plan\n",
    "###############################################################################\n",
    "d_assign, d_assign_date_print, d_assign_member, d_deviation, d_deviation_summary, d_score_current, d_score_total, d_score_print =\\\n",
    "    replace_assignment(lp_root, year_plan, month_plan, l_type_score, l_class_duty, d_replace_checked)"
   ]
  }
 ],
 "metadata": {
  "kernelspec": {
   "display_name": "ds1",
   "language": "python",
   "name": "python3"
  },
  "language_info": {
   "codemirror_mode": {
    "name": "ipython",
    "version": 3
   },
   "file_extension": ".py",
   "mimetype": "text/x-python",
   "name": "python",
   "nbconvert_exporter": "python",
   "pygments_lexer": "ipython3",
   "version": "3.8.13"
  }
 },
 "nbformat": 4,
 "nbformat_minor": 2
}
