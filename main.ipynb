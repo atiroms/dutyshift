{
 "cells": [
  {
   "cell_type": "code",
   "execution_count": 1,
   "metadata": {},
   "outputs": [],
   "source": [
    "###############################################################################\n",
    "# Common parameters\n",
    "###############################################################################\n",
    "'''\n",
    "year_plan, month_plan, l_holiday  = 2024, 6, []\n",
    "year_plan, month_plan, l_holiday  = 2024, 7, [15]\n",
    "year_plan, month_plan, l_holiday  = 2024, 8, [12]\n",
    "year_plan, month_plan, l_holiday  = 2024, 9, [16, 23]\n",
    "year_plan, month_plan, l_holiday  = 2024, 10, [14]\n",
    "year_plan, month_plan, l_holiday  = 2024, 11, [4]\n",
    "year_plan, month_plan, l_holiday  = 2024, 12, [28, 29, 30, 31]\n",
    "'''\n",
    "year_plan, month_plan, l_holiday  = 2025, 2, [11, 24]\n",
    "l_date_ect_cancel = []\n",
    "\n",
    "from script.parameter import *"
   ]
  },
  {
   "cell_type": "code",
   "execution_count": 9,
   "metadata": {},
   "outputs": [],
   "source": [
    "###############################################################################\n",
    "# Create Google form\n",
    "###############################################################################\n",
    "from script.form import *\n",
    "d_cal, d_date_duty, s_cnt_duty, s_cnt_class_duty, d_cal_duty, d_form =\\\n",
    "    prepare_form(lp_root, year_plan, month_plan, l_holiday, l_date_ect_cancel, l_day_ect, day_em, l_week_em, l_class_duty, dict_duty, dict_score_duty, dict_duty_jpn, dict_title_duty, dict_class_duty)"
   ]
  },
  {
   "cell_type": "code",
   "execution_count": 5,
   "metadata": {},
   "outputs": [
    {
     "name": "stdout",
     "output_type": "stream",
     "text": [
      "Missing members and emails:\n",
      "大熊 彩子, 朝重 菜々美\n",
      "okuma.ayako@gmail.com, mochikura82@gmail.com\n",
      "Requests:\n",
      "市橋 香代 いつもありがとうございます。\n"
     ]
    }
   ],
   "source": [
    "###############################################################################\n",
    "# Collect google form response\n",
    "###############################################################################\n",
    "from script.collect import *\n",
    "str_member_missing, str_mail_missing, d_availability, d_info, d_member =\\\n",
    "    collect_availability(lp_root, year_plan, month_plan, id_sheet_response, dict_jpnday, dict_duty_jpn)"
   ]
  },
  {
   "cell_type": "code",
   "execution_count": null,
   "metadata": {},
   "outputs": [
    {
     "name": "stdout",
     "output_type": "stream",
     "text": [
      "============================================================\n",
      "Assignment count optimization\n",
      "------------------------------------------------------------\n",
      "Done, losses: 12.19(non-OC), 0.0(OC)\n",
      "============================================================\n",
      "Member assignment optimization\n",
      "------------------------------------------------------------\n",
      "No member available for: ['1_day', '4_pm', '7_pm', '8_ocday', '8_ocnight', '19_pm', '23_night']\n",
      "of which ['1_day', '4_pm', '7_pm', '19_pm', '23_night'] are not OC\n",
      "Manually assigned member(s) for: ['1_day', '23_day', '15_night', '24_night']\n",
      "1_day  manually set to  34.0\n",
      "23_day  manually set to  42.0\n",
      "15_night  manually set to  10.0\n",
      "24_night  manually set to  7.0\n",
      "In total, skipping assignment for: ['4_pm', '7_pm', '19_pm', '23_night']\n",
      "------------------------------------------------------------\n",
      "[ERROR] Failed to solve. Entering troubleshooting mode to determin which duty caused the failure。\n",
      "[TROUBLESHOOTING] iteration 1 test skipping 95 duties.\n",
      "[TROUBLESHOOTING] iteration 2 test skipping 76 duties.\n",
      "[TROUBLESHOOTING] iteration 3 test skipping 60 duties.\n",
      "[TROUBLESHOOTING] iteration 4 test skipping 48 duties.\n",
      "[TROUBLESHOOTING] iteration 5 test skipping 38 duties.\n",
      "[TROUBLESHOOTING] iteration 6 test skipping 38 duties.\n",
      "[TROUBLESHOOTING] iteration 7 test skipping 30 duties.\n",
      "[TROUBLESHOOTING] iteration 8 test skipping 30 duties.\n",
      "[TROUBLESHOOTING] iteration 9 test skipping 30 duties.\n",
      "[TROUBLESHOOTING] iteration 10 test skipping 24 duties.\n",
      "[TROUBLESHOOTING] iteration 11 test skipping 19 duties.\n",
      "[TROUBLESHOOTING] iteration 12 test skipping 15 duties.\n",
      "[TROUBLESHOOTING] iteration 13 test skipping 15 duties.\n",
      "[TROUBLESHOOTING] iteration 14 test skipping 12 duties.\n",
      "[TROUBLESHOOTING] iteration 15 test skipping 12 duties.\n",
      "[TROUBLESHOOTING] iteration 16 test skipping 12 duties.\n",
      "[TROUBLESHOOTING] iteration 17 test skipping 9 duties.\n",
      "[TROUBLESHOOTING] iteration 18 test skipping 9 duties.\n",
      "[TROUBLESHOOTING] iteration 19 test skipping 9 duties.\n",
      "[TROUBLESHOOTING] iteration 20 test skipping 9 duties.\n",
      "[TROUBLESHOOTING] iteration 21 test skipping 8 duties.\n",
      "[TROUBLESHOOTING] iteration 22 test skipping 8 duties.\n",
      "[TROUBLESHOOTING] iteration 23 test skipping 7 duties.\n",
      "[TROUBLESHOOTING] iteration 24 test skipping 6 duties.\n",
      "[TROUBLESHOOTING] iteration 25 test skipping 5 duties.\n",
      "[TROUBLESHOOTING] iteration 26 test skipping 5 duties.\n",
      "[TROUBLESHOOTING] iteration 27 test skipping 4 duties.\n",
      "[TROUBLESHOOTING] iteration 28 test skipping 3 duties.\n",
      "[TROUBLESHOOTING] iteration 29 test skipping 2 duties.\n",
      "[DONE TROUBLESHOOTING] unassignable duty[ies]: ['19_am', '5_am']\n",
      "============================================================\n",
      "Result\n",
      "------------------------------------------------------------\n",
      "Done, losses: 4.0 = 0.0 + 4.0 + 0.0\n",
      "(Total = Suboptimality + Count Deviation + Close duty)\n",
      "------------------------------------------------------------\n",
      "Deviation from target:\n",
      "------------------------------------------------------------\n",
      "   id_member name_jpn    class_duty  deviation_exact  deviation_hard\n",
      "0          1       安藤        oc_tot                1               0\n",
      "1          2       榊原        oc_tot                1               0\n",
      "2          3       近藤          ampm                1               0\n",
      "3          3       近藤        oc_tot               -1               0\n",
      "4          4       市橋          ampm                1               0\n",
      "5          5       藤川  daynight_tot                1               0\n",
      "6          6       池亀           ect                3               3\n",
      "7          7       越山  daynight_tot               -2               0\n",
      "8         10       熊倉  daynight_tot               -1               0\n",
      "9         11      森田進          ampm               -1               0\n",
      "10        19       水谷          ampm               -3              -1\n",
      "11        19       水谷           ect               -3              -1\n",
      "12        20       清田          ampm               -1               0\n",
      "13        20       清田  daynight_tot               -1               0\n",
      "14        29       熊谷  daynight_tot                1               1\n",
      "15        30       澤井  daynight_tot                1               1\n",
      "16        32       長岡  daynight_tot                1               1\n",
      "17        34       星野  daynight_tot               -2               0\n",
      "18        42       市川          ampm               -1              -1\n",
      "19        42       市川  daynight_tot                1               1\n",
      "20        43       鈴木          ampm               -1              -1\n",
      "------------------------------------------------------------\n",
      "Close duties:\n",
      "------------------------------------------------------------\n",
      "   id_member date_duty name_jpn\n",
      "0         42    22_day       市川\n",
      "1         42    23_day       市川\n",
      "2         20   5_night       清田\n",
      "3         20   9_night       清田\n",
      "------------------------------------------------------------\n"
     ]
    }
   ],
   "source": [
    "###############################################################################\n",
    "# Optimize assignment count and assign members\n",
    "###############################################################################\n",
    "from script.assign import *\n",
    "# Assignment count optimization\n",
    "dict_c_diff_score_current = {'ampm': 0.001, 'daynight': 0.001, 'ampmdaynight': 0.001, 'oc': 0.001, 'ect': 0.01}\n",
    "dict_c_diff_score_total = {'ampm': 0.01, 'daynight': 0.01, 'ampmdaynight': 0.01, 'oc': 0.01, 'ect': 0.1}\n",
    "#dict_c_diff_score_total = {'ampm': 0.01, 'daynight': 0.01, 'ampmdaynight': 1.0, 'oc': 0.01, 'ect': 0.1}\n",
    "# Individual assignment\n",
    "# Parameters for avoiding/penalizing close duties\n",
    "#dict_closeduty = {'daynight': {'l_duty': ['day', 'ocday', 'night', 'emnight', 'ocnight'], 'thr_hard': 2, 'thr_soft': 5}, # 1: avoid within same day, 2: avoid within 2 continuous days\n",
    "#                  'ect':      {'l_duty': ['ect'],                                         'thr_hard': 1, 'thr_soft': 4},\n",
    "#                  'ampm':     {'l_duty': ['am', 'pm'],                                    'thr_hard': 1, 'thr_soft': 2}}\n",
    "dict_closeduty = {'daynight': {'l_duty': ['day', 'ocday', 'night', 'emnight', 'ocnight'], 'thr_hard': 0, 'thr_soft': 5}, # 1: avoid within same day, 2: avoid within 2 continuous days\n",
    "                  'ect':      {'l_duty': ['ect'],                                         'thr_hard': 1, 'thr_soft': 4},\n",
    "                  'ampm':     {'l_duty': ['am', 'pm'],                                    'thr_hard': 1, 'thr_soft': 2}}\n",
    "#c_assign_suboptimal, c_cnt_deviation, c_closeduty = 0.001, 0.001, 0.1\n",
    "c_assign_suboptimal, c_cnt_deviation, c_closeduty = 0.00001, 0.1, 0.00001\n",
    "#c_assign_suboptimal, c_cnt_deviation, c_closeduty = 0.0001, 0.1, 0.01\n",
    "l_date_duty_fulltime = []\n",
    "# Count deviation penalization mode. student twice-assignation is limited elsewhere\n",
    "type_limit = 'soft'  # 'hard': never exceed, 'soft': outlier penalized, 'ignore': no penalty\n",
    "l_date_duty_skip_manual = ['5_ect', '12_ect', '26_ect']\n",
    "'''\n",
    "#l_date_duty_skip_manual = ['23_'] # All duties starting with 23_\n",
    "#l_date_duty_skip_manual = ['23_am']\n",
    "'''\n",
    "d_assign, d_assign_date_print, d_assign_member, d_deviation, d_score_print, d_closeduty =\\\n",
    "    optimize_count_and_assign(lp_root, year_plan, month_plan, year_start, month_start, l_class_duty, dict_c_diff_score_current,\n",
    "                              dict_c_diff_score_total, l_date_duty_skip_manual, dict_closeduty, ll_avoid_adjacent, l_title_fulltime,\n",
    "                              l_date_duty_fulltime, type_limit, c_assign_suboptimal, c_cnt_deviation, c_closeduty, dict_score_duty, dict_score_class)"
   ]
  },
  {
   "cell_type": "code",
   "execution_count": null,
   "metadata": {},
   "outputs": [],
   "source": [
    "###############################################################################\n",
    "# Notify Google calendar\n",
    "###############################################################################\n",
    "from script.notify import *\n",
    "update_calendar(lp_root, year_plan, month_plan, l_scope, dict_time_duty, t_sleep)"
   ]
  },
  {
   "cell_type": "code",
   "execution_count": null,
   "metadata": {},
   "outputs": [],
   "source": [
    "###############################################################################\n",
    "# Collect replacement application\n",
    "###############################################################################\n",
    "from script.replace import *\n",
    "d_replace_checked = check_replacement(lp_root, year_plan, month_plan, sheet_id)"
   ]
  },
  {
   "cell_type": "code",
   "execution_count": null,
   "metadata": {},
   "outputs": [],
   "source": [
    "###############################################################################\n",
    "# Apply checked replacement plan\n",
    "###############################################################################\n",
    "d_assign, d_assign_date_print, d_assign_member, d_deviation, d_deviation_summary, d_score_current, d_score_total, d_score_print =\\\n",
    "    replace_assignment(lp_root, year_plan, month_plan, dict_score_duty, l_class_duty, d_replace_checked)"
   ]
  }
 ],
 "metadata": {
  "kernelspec": {
   "display_name": "ds1",
   "language": "python",
   "name": "python3"
  },
  "language_info": {
   "codemirror_mode": {
    "name": "ipython",
    "version": 3
   },
   "file_extension": ".py",
   "mimetype": "text/x-python",
   "name": "python",
   "nbconvert_exporter": "python",
   "pygments_lexer": "ipython3",
   "version": "3.8.13"
  }
 },
 "nbformat": 4,
 "nbformat_minor": 2
}
