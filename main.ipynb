{
 "cells": [
  {
   "cell_type": "code",
   "execution_count": 1,
   "metadata": {},
   "outputs": [],
   "source": [
    "###############################################################################\n",
    "# Common parameters\n",
    "###############################################################################\n",
    "year_plan, month_plan  = 2024, 4\n",
    "l_holiday = [29]\n",
    "l_date_ect_cancel = []\n",
    "\n",
    "###############################################################################\n",
    "# Fixed parameters\n",
    "###############################################################################\n",
    "# General\n",
    "year_start, month_start = 2024, 4\n",
    "lp_root = ['/home/atiroms/Documents','D:/atiro','D:/NICT_WS','/Users/smrt']\n",
    "# Form\n",
    "dict_duty = {'ect': 0, 'am': 1, 'pm': 2, 'day': 3, 'ocday': 4, 'night': 5, 'emnight':6, 'ocnight': 7}\n",
    "dict_duty_jpn = {'am': '午前日直', 'pm': '午後日直', 'day': '日直', 'ocday': '日直OC', 'night': '当直', 'emnight': '救急当直', 'ocnight': '当直OC'}\n",
    "dict_jpnday = {0: '月', 1: '火', 2: '水', 3: '木', 4: '金', 5: '土', 6: '日'}\n",
    "#dict_duty_jpn = {'am': '午前日直', 'pm': '午後日直', 'day': '日直', 'ocday': '日直OC', 'night': '当直', 'ocnight': '当直OC'}\n",
    "dict_score_duty = {'duty':         ['am', 'pm', 'day', 'night', 'emnight', 'ocday', 'ocnight', 'ect'],\n",
    "                   'ampm':         [0.5, 0.5, 0.0, 0.0, 0.0, 0.0, 0.0, 0.0],\n",
    "                   'daynight':     [0.0, 0.0, 1.0, 1.0, 1.5, 0.0, 0.0, 0.0],\n",
    "                   'ampmdaynight': [0.5, 0.5, 1.0, 1.0, 1.5, 0.0, 0.0, 0.0],\n",
    "                   'oc':           [0.0, 0.0, 0.0, 0.0, 0.0, 1.0, 1.0, 0.0],\n",
    "                   'ect':          [0.0, 0.0, 0.0, 0.0, 0.0, 0.0, 0.0, 1.0]}\n",
    "dict_title_duty = {'assoc':            ['ocday', 'ocnight'],\n",
    "                   'instr':            ['am', 'pm', 'ocday', 'ocnight'],\n",
    "                   'assist_leader':    ['am', 'pm', 'day', 'night', 'ocday', 'ocnight'],\n",
    "                   'assist_subleader': ['am', 'pm', 'day', 'night'],\n",
    "                   'limtermclin':      ['am', 'pm', 'day', 'night'],\n",
    "                   'stud':             ['day', 'night'],\n",
    "                   'assist_child':     ['am', 'pm']}\n",
    "dict_class_duty = {'class': ['ampm', 'ampm', 'daynight_tot', 'daynight_tot', 'daynight_tot', 'night_em', 'night_wd', 'night_wd', 'daynight_hd', 'daynight_hd', 'oc_tot', 'oc_tot', 'oc_day', 'oc_night', 'ect'],\n",
    "                   'date':  ['all', 'all', 'all', 'all', 'all', 'all', 'wd', 'all', 'all', 'hd', 'all', 'all', 'all', 'all', 'all'],\n",
    "                   'duty':  ['am', 'pm', 'day', 'night', 'emnight', 'emnight', 'night', 'emnight', 'day', 'night', 'ocday', 'ocnight', 'ocday', 'ocnight', 'ect']}\n",
    "# Data collection\n",
    "address_response = \"https://docs.google.com/spreadsheets/d/1zCdtuSHwzYn4idJM6ZZzzLJbQh4cJjf8uL8b4FySVCw/edit?resourcekey#gid=1443213949\"\n",
    "# Optimizing assignment count\n",
    "l_day_ect = [0, 2, 3] # Monday, Wednesday, Thursday\n",
    "day_em, l_week_em = 2, [] # Wednesday, 1st and 3rd weeks\n",
    "l_type_score = ['ampm','daynight','ampmdaynight','oc','ect']\n",
    "l_class_duty = ['ampm','daynight_tot','night_em','night_wd','daynight_hd','oc_tot','oc_day','oc_night','ect']\n",
    "dict_score_class = {'score': ['ampm', 'daynight', 'daynight', 'ampmdaynight', 'ampmdaynight', 'ampmdaynight', 'oc', 'ect'],\n",
    "                    'class': ['ampm', 'daynight_tot', 'night_em', 'ampm', 'daynight_tot', 'night_em', 'oc_tot', 'ect'],\n",
    "                    'constant': [0.5, 1, 0.5, 0.5, 1, 0.5, 1, 1]}\n",
    "# Optimizing assignment, parameters for avoiding/penalizing close duties\n",
    "dict_closeduty = {'daynight': {'l_duty': ['day', 'ocday', 'night', 'emnight', 'ocnight'], 'thr_hard': 1, 'thr_soft': 5},\n",
    "                  'ect':      {'l_duty': ['ect'],                                         'thr_hard': 1, 'thr_soft': 4},\n",
    "                  'ampm':     {'l_duty': ['am', 'pm'],                                    'thr_hard': 1, 'thr_soft': 5}}\n",
    "# Optimizing assignment, parameters for avoiding overlapping duties\n",
    "ll_avoid_adjacent = [[['pm', 0], ['night', 0], ['emnight', 0], ['ocnight', 0]], [['night', 0], ['emnight', 0], ['ocnight', 0], ['ect', 1], ['am', 1]]]\n",
    "l_title_fulltime = ['assist'] # ['limterm_instr', 'assist', 'limterm_clin']\n",
    "# Notification\n",
    "t_sleep = 600\n",
    "# Parameters for replacement\n",
    "sheet_id = \"1glzf0fM1jyAZffFE7l7SHE26m3M4QBI5AAOsdSlmHxE\"\n",
    "l_scope = ['https://www.googleapis.com/auth/calendar']"
   ]
  },
  {
   "cell_type": "code",
   "execution_count": null,
   "metadata": {},
   "outputs": [],
   "source": [
    "###############################################################################\n",
    "# Create Google form\n",
    "###############################################################################\n",
    "from form import *\n",
    "d_cal, d_date_duty, s_cnt_duty, s_cnt_class_duty, d_cal_duty, d_form =\\\n",
    "    prepare_form(lp_root, year_plan, month_plan, l_holiday, l_date_ect_cancel, l_day_ect, day_em, l_week_em, l_class_duty, dict_duty, dict_score_duty, dict_duty_jpn, dict_title_duty, dict_class_duty)"
   ]
  },
  {
   "cell_type": "code",
   "execution_count": 2,
   "metadata": {},
   "outputs": [
    {
     "name": "stdout",
     "output_type": "stream",
     "text": [
      "Missing members and emails:\n",
      "古川 由己, 朝重 菜々美\n",
      "furukawa.yuki@gmail.com, mochikura82@gmail.com\n",
      "Requests:\n",
      "神出 誠一郎 4/29は一応オンコール可にしていますが、当日は外来で出勤しており、午前中は外来のため呼ばれてすぐには動けませんので、他にできる方がいらっしゃればその方を優先していただければありがたいです。\n",
      "市橋 香代 4/29が管理当直なので、いざとなればOCができなくはないです。\n",
      "佐藤 駿一 申し訳ございません。研究のためにフィールドワークに行くことが多く、どうしても不可が多くなってしまいます。ご容赦いただけますと幸いです。\n"
     ]
    }
   ],
   "source": [
    "###############################################################################\n",
    "# Collect google form response\n",
    "###############################################################################\n",
    "from collect import *\n",
    "str_member_missing, str_mail_missing, d_availability, d_info, d_member =\\\n",
    "    collect_availability(lp_root, year_plan, month_plan, address_response, dict_jpnday, dict_duty_jpn)"
   ]
  },
  {
   "cell_type": "code",
   "execution_count": 3,
   "metadata": {},
   "outputs": [
    {
     "name": "stdout",
     "output_type": "stream",
     "text": [
      "Optimizing assignment count (non-OC)...\n",
      "Solved: Optimal, 1.63\n",
      "Optimizing assignment count (OC)...\n",
      "Solved: Optimal, 0.0\n",
      "No member available for: ['2_pm', '5_pm']\n",
      "In total, skipping assignment for: ['2_pm', '5_pm']\n",
      "Optimizing assignment...\n",
      "Solved: Optimal, 1.67\n",
      "Deviation from target:\n",
      "   id_member name_jpn    class_duty  deviation\n",
      "0          1       安藤        oc_tot         -1\n",
      "1          5       藤川  daynight_tot          1\n",
      "2          6       池亀          ampm         -2\n",
      "3          6       池亀           ect         -1\n",
      "4         11      森田進           ect          2\n",
      "5         19       水谷           ect         -2\n",
      "6         20       清田  daynight_tot          1\n",
      "7         34       星野  daynight_tot         -1\n",
      "8         43       鈴木           ect          1\n"
     ]
    }
   ],
   "source": [
    "###############################################################################\n",
    "# Optimize assignment count and assign members\n",
    "###############################################################################\n",
    "from assign import *\n",
    "# Assignment count optimization\n",
    "dict_c_diff_score_current = {'ampm': 0.001, 'daynight': 0.001, 'ampmdaynight': 0.001, 'oc': 0.001, 'ect': 0.01}\n",
    "dict_c_diff_score_total = {'ampm': 0.01, 'daynight': 0.01, 'ampmdaynight': 0.01, 'oc': 0.01, 'ect': 0.1}\n",
    "#dict_c_diff_score_total = {'ampm': 0.01, 'daynight': 0.01, 'ampmdaynight': 1.0, 'oc': 0.01, 'ect': 0.1}\n",
    "# Individual assignment\n",
    "#c_assign_suboptimal, c_cnt_deviation, c_closeduty = 0.001, 0.001, 0.1\n",
    "c_assign_suboptimal, c_cnt_deviation, c_closeduty = 0.0001, 0.1, 0.01\n",
    "l_date_duty_fulltime = []\n",
    "type_limit = 'soft' # 'hard': never exceed, 'soft': outlier penalized, 'ignore': no penalty\n",
    "l_date_duty_skip_manual = []\n",
    "#l_date_duty_skip_manual = ['23_'] # All duties starting with 23_\n",
    "#l_date_duty_skip_manual = ['23_am']\n",
    "\n",
    "d_assign, d_assign_date_print, d_assign_member, d_deviation, d_score_print, d_closeduty =\\\n",
    "    optimize_count_and_assign(lp_root, year_plan, month_plan, year_start, month_start,l_type_score, l_class_duty, dict_c_diff_score_current,\n",
    "                              dict_c_diff_score_total, l_date_duty_skip_manual, dict_closeduty, ll_avoid_adjacent, l_title_fulltime,\n",
    "                              l_date_duty_fulltime, type_limit, c_assign_suboptimal, c_cnt_deviation, c_closeduty, dict_score_duty, dict_score_class)"
   ]
  },
  {
   "cell_type": "code",
   "execution_count": null,
   "metadata": {},
   "outputs": [],
   "source": [
    "###############################################################################\n",
    "# Notify google calendar\n",
    "###############################################################################\n",
    "from notify import *\n",
    "notify(lp_root, year_plan, month_plan, l_scope, t_sleep)"
   ]
  },
  {
   "cell_type": "code",
   "execution_count": null,
   "metadata": {},
   "outputs": [],
   "source": [
    "###############################################################################\n",
    "# Check availability of certain date_duty\n",
    "###############################################################################\n",
    "from check import *\n",
    "date_duty = '29_day'\n",
    "check_availability_date_duty(lp_root, year_plan, month_plan, date_duty)"
   ]
  },
  {
   "cell_type": "code",
   "execution_count": null,
   "metadata": {},
   "outputs": [],
   "source": [
    "###############################################################################\n",
    "# Check availability of certain member\n",
    "###############################################################################\n",
    "from check import *\n",
    "id_member = 37\n",
    "check_availability_member(lp_root, year_plan, month_plan, id_member)"
   ]
  },
  {
   "cell_type": "code",
   "execution_count": null,
   "metadata": {},
   "outputs": [],
   "source": [
    "###############################################################################\n",
    "# Replace assignment\n",
    "###############################################################################\n",
    "from replace import *\n",
    "# Load from Gforms result and check\n",
    "d_replace_checked = check_replacement(lp_root, year_plan, month_plan, sheet_id)\n",
    "# Apply checked replacement plan\n",
    "d_assign, d_assign_date_print, d_assign_member, d_deviation, d_deviation_summary, d_score_current, d_score_total, d_score_print =\\\n",
    "    replace_assignment(lp_root, year_plan, month_plan, l_type_score, l_class_duty, d_replace_checked)\n",
    "# Add new event to Gcalendar\n",
    "l_result_event = add_replaced_calendar(lp_root, year_plan, month_plan, d_replace_checked, l_scope)"
   ]
  }
 ],
 "metadata": {
  "kernelspec": {
   "display_name": "ds1",
   "language": "python",
   "name": "python3"
  },
  "language_info": {
   "codemirror_mode": {
    "name": "ipython",
    "version": 3
   },
   "file_extension": ".py",
   "mimetype": "text/x-python",
   "name": "python",
   "nbconvert_exporter": "python",
   "pygments_lexer": "ipython3",
   "version": "3.8.13"
  }
 },
 "nbformat": 4,
 "nbformat_minor": 2
}
